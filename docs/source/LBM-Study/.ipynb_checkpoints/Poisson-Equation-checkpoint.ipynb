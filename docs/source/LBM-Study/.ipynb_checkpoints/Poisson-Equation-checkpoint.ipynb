{
 "cells": [
  {
   "cell_type": "markdown",
   "id": "9a8e2211",
   "metadata": {},
   "source": [
    "# Poisson Equation (Steady-State Diffusive Equation)\n",
    "\n",
    "The Poisson is partial differential equation employed to represent problems as the pressure distribution over steady-state in space. It is characterized by a steady-state version of the difusive equation, i.e, the parameter is independent of time. The partial differential equation is given by \n",
    "\n",
    "$$\n",
    "\\partial_{\\alpha}\\left( \\nu \\partial_{\\alpha}p \\right) = 0\n",
    "$$(poisson-eq-lb)\n",
    "\n",
    "where $p$ is the pressure and $\\nu$ diffusive control paremeter."
   ]
  },
  {
   "cell_type": "markdown",
   "id": "dbf33e48-d189-4ae1-bd4d-3c39a12e5035",
   "metadata": {},
   "source": [
    "## Lattice Boltzmann Equation\n",
    "\n",
    "Describing the problem through the BGK lattice Boltzmann equation (BGK-LB):\n",
    "\n",
    "$$\n",
    "f_i( x_{\\alpha} + e_{i,\\alpha} \\delta t, t'+\\delta t) = f_i(x_{\\alpha}, t')  -\\left( \\frac{ f_{i} - f_{i}^{eq} }{ \\tau } \\right), \n",
    "$$(LB-Poisson-Eq)\n",
    "\n",
    "the equilibrium distribution function is defined by\n",
    "\n",
    "$$\n",
    "f^{eq}_{i} = \\left\\{ \\begin{array}{ll}\n",
    "   \\left(w_{0} - 1\\right)\\widehat{p}(x_{\\alpha}, t')  & i=0 \\\\\n",
    "   w_{i}\\widehat{p}(x_{\\alpha}, t')  & i\\neq 0\n",
    "\\end{array} \\right. ,\n",
    "$$\n",
    "\n",
    "where $\\widehat{p}$ is a shifted pressure, shifted by a reference constant pressure $p_{0}$, i.e., $p=p_{0}+\\widehat{p}$ (This assumption is necessary due to pressure by definition can not be negative, but negative pressure values can be found depending of initial simulation set). The equilibrium moments are given by \n",
    "\n",
    "$$\n",
    "\\displaystyle\\sum_{i=0} f_{i}^{eq}=0, \\quad \\quad \\frac{1}{1-w_{0}}\\displaystyle\\sum_{i=1} f_{i}^{eq} = \\frac{1}{1-w_{0}} \\displaystyle\\sum_{i=1} f_{i}=\\widehat{p}, \\quad \\quad  \\displaystyle\\sum_{i}f_{i}^{eq} e_{i,\\alpha} =0 \\quad \\quad \\textrm{and} \\quad \\quad  \\displaystyle\\sum_{i}f_{i}^{eq} e_{i,\\alpha} e_{i,\\beta} =c_{s}^{2} \\widehat{p} \\delta_{\\alpha\\beta} .\n",
    "$$(moments-fi)\n",
    "\n",
    "Through Chapman–Enskog analysis, it is demonstrated that the first-order non-equilibrium moment describes the pressure gradient and, consequently, the average velocity:\n",
    "\n",
    "$$\n",
    "m^{neq}_{\\alpha} = \\displaystyle\\sum_{i} e_{i,\\alpha}\\left( f_i-f_i^{eq}\\right)  = -(c_{s}^{2} \\tau \\delta_{t})\\partial_{\\alpha}\\widehat{p} \\quad \\quad \\textrm{and} \\quad\\quad \\tau = \\displaystyle\\frac{\\nu}{c_{s}^{2} \\delta_{t}} +\\frac{1}{2}.\n",
    "$$"
   ]
  },
  {
   "cell_type": "markdown",
   "id": "d5c5668b-0559-426f-9f1d-eacdc3eac4e8",
   "metadata": {},
   "source": [
    "### Lattice Direction Moments"
   ]
  },
  {
   "cell_type": "code",
   "execution_count": 1,
   "id": "31958af6-d079-41e8-92d0-44e575b8d8f9",
   "metadata": {
    "editable": true,
    "slideshow": {
     "slide_type": ""
    },
    "tags": [
     "hide-input"
    ]
   },
   "outputs": [
    {
     "name": "stderr",
     "output_type": "stream",
     "text": [
      "<>:13: SyntaxWarning: invalid escape sequence '\\w'\n",
      "<>:13: SyntaxWarning: invalid escape sequence '\\w'\n",
      "/tmp/ipykernel_221919/3345910203.py:13: SyntaxWarning: invalid escape sequence '\\w'\n",
      "  omega, p, w = symbols('omega, \\widehat{p}, w')\n"
     ]
    }
   ],
   "source": [
    "import warnings\n",
    "warnings.filterwarnings(\"ignore\")\n",
    "from pylab import *\n",
    "from __future__ import division\n",
    "from sympy import *\n",
    "import numpy as np\n",
    "from sympy import S, collect, expand, factor, Wild\n",
    "from sympy import fraction, Rational, Symbol\n",
    "from sympy import symbols, sqrt, Rational\n",
    "import sympy as sp\n",
    "from IPython.display import display, Math, Latex\n",
    "#-------------------------------------------------Símbolos----------------------------------------------\n",
    "omega, p, w = symbols('omega, \\widehat{p}, w')\n",
    "wi, cx, cy, cs = symbols('w_{i} c_{x} c_{y} c_{s}')\n",
    "fi, f0, f1, f2, f3, f4, f5, f6, f7, f8,  = symbols('f_{i} f_{0} f_{1} f_{2} f_{3} f_{4} f_{5} f_{6} f_{7} f_{8}')\n",
    "#-------------------------------------------------Funções----------------------------------------------\n",
    "feq = Function('feq')(wi, cx, cy)\n",
    "fneq = Function('fneq')(wi, cx, cy)\n",
    "f = Function('f')(fi)\n",
    "#-------------------------------------------------Variáveis----------------------------------------------\n",
    "fi=np.array([f1,f2,f3,f4,f5,f6,f7,f8])\n",
    "w0=Rational(4,9);w1=Rational(1,9);w2=Rational(1,36)\n",
    "wi=np.array([w0,w1,w1,w1,w1,w2,w2,w2,w2])\n",
    "cx=np.array([0,1,0,-1,0,1,-1,-1,1])\n",
    "cy=np.array([0,0,1,0,-1,1,1,-1,-1])\n",
    "as2=Rational(3)\n",
    "cs2=1/as2\n",
    "#-------------------------------------------------Calc.Func------------------------------------------------\n",
    "f= fi\n",
    "feq=wi*p\n",
    "feq[0]=(w0-1)*p"
   ]
  },
  {
   "cell_type": "code",
   "execution_count": 3,
   "id": "101dbaeb-38c6-4241-9ba9-14accc9c9836",
   "metadata": {
    "editable": true,
    "slideshow": {
     "slide_type": ""
    },
    "tags": [
     "hide-input"
    ]
   },
   "outputs": [
    {
     "data": {
      "text/latex": [
       "$\\displaystyle \\underbrace{\\sum_{i=0} f_{i}^{eq} =\\sum_{i=0} f_{i} }_{\\textrm{Zero-Order Moment}} =0,\\quad \\quad \\underbrace{\\frac{1}{1-w_{0}}\\sum_{i=1} f_{i}^{eq} = \\frac{1}{1-w_{0}}\\sum_{i=1} f_{i} }_{\\textrm{Zero-Order Moment}} =\\widehat{p},\\quad \\quad \\underbrace{\\sum_{i=0} f_{i}^{eq}e_{i,x} }_{\\textrm{x-First-Order Moment}} =0,\\quad \\quad \\underbrace{\\sum_{i=0} f_{i}^{eq}e_{i,y} }_{\\textrm{y-First-Order Moment}} =0,\\\\ \\quad \\quad \\underbrace{\\sum_{i=0} f_{i}^{eq}e_{i,x}e_{i,x} }_{\\textrm{xx-Second-Order Moment}} =\\frac{\\widehat{p}}{3},\\quad \\quad \\underbrace{\\sum_{i=0} f_{i}^{eq}e_{i,x}e_{i,y} }_{\\textrm{xy-Second-Order Moment}} =0 \\quad \\quad and \\quad \\quad \\underbrace{\\sum_{i=0} f_{i}^{eq}e_{i,y}e_{i,y} }_{\\textrm{yy-Second-Order Moment}} =\\frac{\\widehat{p}}{3}$"
      ],
      "text/plain": [
       "<IPython.core.display.Math object>"
      ]
     },
     "metadata": {},
     "output_type": "display_data"
    }
   ],
   "source": [
    "a00=simplify(sum(feq))\n",
    "a0=simplify(sum(feq[1:]))/(1-w0)\n",
    "ax=simplify(sum(feq*cx))\n",
    "ay=simplify(sum(feq*cy))\n",
    "axx=simplify(sum(feq*cx*cx))\n",
    "axy=simplify(sum(feq*cx*cy))\n",
    "ayy=simplify(sum(feq*cy*cy))\n",
    "\n",
    "display(Math(r\"\\underbrace{\\sum_{i=0} f_{i}^{eq} =\\sum_{i=0} f_{i} }_{\\textrm{Zero-Order Moment}} =\" +  sp.latex(a00)\n",
    "            +r\",\\quad \\quad \\underbrace{\\frac{1}{1-w_{0}}\\sum_{i=1} f_{i}^{eq} = \\frac{1}{1-w_{0}}\\sum_{i=1} f_{i} }_{\\textrm{Zero-Order Moment}} =\" +  sp.latex(a0)\n",
    "            +r\",\\quad \\quad \\underbrace{\\sum_{i=0} f_{i}^{eq}e_{i,x} }_{\\textrm{x-First-Order Moment}} =\" +  sp.latex(ax)\n",
    "            +r\",\\quad \\quad \\underbrace{\\sum_{i=0} f_{i}^{eq}e_{i,y} }_{\\textrm{y-First-Order Moment}} =\" +  sp.latex(ay)\n",
    "            +r\",\\\\ \\quad \\quad \\underbrace{\\sum_{i=0} f_{i}^{eq}e_{i,x}e_{i,x} }_{\\textrm{xx-Second-Order Moment}} =\" +  sp.latex(axx)\n",
    "            +r\",\\quad \\quad \\underbrace{\\sum_{i=0} f_{i}^{eq}e_{i,x}e_{i,y} }_{\\textrm{xy-Second-Order Moment}} =\" +  sp.latex(axy)\n",
    "            +r\" \\quad \\quad and \\quad \\quad \\underbrace{\\sum_{i=0} f_{i}^{eq}e_{i,y}e_{i,y} }_{\\textrm{yy-Second-Order Moment}} =\" +  sp.latex(ayy)))"
   ]
  },
  {
   "cell_type": "markdown",
   "id": "05d52e5c-de34-4f25-8bf2-99be1d5a35bd",
   "metadata": {
    "editable": true,
    "slideshow": {
     "slide_type": ""
    },
    "tags": []
   },
   "source": [
    "## Chapmann-Enskog Analysis"
   ]
  },
  {
   "cell_type": "markdown",
   "id": "e1ef21b7",
   "metadata": {
    "hide_input": true,
    "tags": [
     "hide-input"
    ]
   },
   "source": [
    "Applying the Chapmann-Enskog procedure to LB equation, we expand the term $f_{i}\\left(\\boldsymbol{x}+\\boldsymbol{e}_i \\Delta t, t+\\Delta t\\right)$ in a Taylor series to recover the derivative form of the equation, i.e.,\n",
    "\n",
    "$$\n",
    "f_{i}\\left(\\boldsymbol{x}+\\boldsymbol{e}_i \\Delta t, t+\\Delta t\\right)- f_{i}(\\boldsymbol{x}, t)=\\displaystyle\\sum_{j=1}^{\\infty}\\frac{\\Delta t^{j}}{j!}D_{t}^{j}f_{i}= -\\left( \\frac{ f_{i} - f_{i}^{eq} }{ \\tau } \\right).\n",
    "$$(EqExp-Poisson-Eq)\n",
    "\n",
    "Rescaling the dimensionless form of the Eq. {eq}`EqExp-Poisson-Eq` in terms of the Knudsen number ($Kn$), we have\n",
    "\n",
    "$$\n",
    "\\displaystyle \\sum^{\\infty}_{j=1}  \\frac{Kn^{(j-1)}}{j!} D_{t}^{j} f_{i} = - \\frac{1}{Kn}\\left( \\frac{ f_{i} - f_{eq,i} }{ \\tau } \\right) \\quad \\quad \\rightarrow \\quad \\quad \\displaystyle \\sum^{\\infty}_{j=1}  \\frac{Kn^{(j)}}{j!} D_{t}^{j} f_{i} = -  \\frac{ f_{i} - f_{i}^{eq} }{ \\tau },\n",
    "$$\n",
    "\n",
    "applying the asymptotic expansion in both the distribution function ($f_{i}=f_{i}^{(0)}+Kn f_{i}^{(1)} + Kn^{2} f_{i}^{(2)}+\\cdots$) and time partial derivative ($\\partial_{t}=\\partial_{t}^{(0)}+ Kn \\partial_{t}^{(1)}+Kn^{2} \\partial_{t}^{(2)}+\\cdots$), and separating the equation in orders up to the order $Kn^{2}$:\n",
    "\n",
    "$$\n",
    "\\begin{array}{ll}\n",
    "    (Kn^{(0)}):& f_{i}^{(0)}= f_{i}^{eq},\\\\\n",
    "    (Kn^{(1)}):& \\left( \\partial_{t}^{(0)} + e_{i,\\alpha}\\partial_{\\alpha} \\right)f_{i}^{(0)}= - \\displaystyle\\frac{ f_{i}^{(1)} }{ \\tau } , \\\\\n",
    "    (Kn^{(2)}):& \\partial_{t}^{(1)} f_{i}^{(0)} + \\left( \\partial_{t}^{(0)} + e_{i,\\alpha}\\partial_{\\alpha} \\right)f_{i}^{(0)} + \\displaystyle\\frac{\\left( \\partial_{t}^{(0)} + e_{i,\\alpha}\\partial_{\\alpha} \\right)^{2} f_{i}^{(0)}}{2}= - \\displaystyle\\frac{ f_{i}^{(2)} }{ \\tau },\\\\\n",
    "    \\textrm{ou}\\\\\n",
    "    (Kn^{(2)}):& \\partial_{t}^{(1)} f_{i}^{(0)} + \\left( \\partial_{t}^{(0)} + e_{i,\\alpha}\\partial_{\\alpha} \\right)\\displaystyle\\left(1 - \\frac{1}{2\\tau}\\right) f_{i}^{(1)} =  - \\displaystyle\\frac{ f_{i}^{(2)} }{ \\tau } \\quad\\quad \\rightarrow \\quad\\quad  f_{i}^{(1)}\\textrm{ Formulation} \\\\\n",
    "    \\textrm{ou}\\\\\n",
    "    (Kn^{(2)}):& \\partial_{t}^{(1)} f_{i}^{(0)} + \\left( \\partial_{t}^{(0)} + e_{i,\\alpha}\\partial_{\\alpha} \\right)^{2} \\displaystyle\\left(\\frac{1}{2} - \\tau\\right) f_{i}^{(0)} =  - \\displaystyle\\frac{ f_{i}^{(2)} }{ \\tau } \\quad\\quad \\rightarrow  \\quad\\quad f_{i}^{(0)}\\textrm{ Formulation}.\n",
    " \\end{array}\n",
    "$$(Chap-Kn-Poisson-Eq)"
   ]
  },
  {
   "cell_type": "markdown",
   "id": "31f290a1-5316-4239-b8d7-9829cc6d1194",
   "metadata": {},
   "source": [
    "## Zero-Order Moment Balance\n",
    "\n",
    "To retrieve the balance equation, we sum the Eq. {eq}`Chap-Kn-Poisson-Eq` for $Kn^{(1)}$ and $Kn^{(2)}$ over $\\sum_{i=0} $:\n",
    "\n",
    "$$\n",
    "\\begin{array}{l}\n",
    "(Kn^{(1)}): \\displaystyle\\sum_{i}\\left( \\partial_{t}^{(0)} + e_{i,\\alpha}\\partial_{\\alpha} \\right)f_{i}^{(0)}= \\displaystyle\\sum_{i} \\left(- \\displaystyle\\frac{ f_{i}^{(1)} }{ \\tau } \\right),\\\\\n",
    "(Kn^{(1)}): 0  =0,\n",
    "\\end{array}\n",
    "$$\n",
    "\n",
    "and\n",
    "\n",
    "$$\n",
    "\\begin{array}{l}\n",
    "(Kn^{(2)}): \\displaystyle\\sum_{i}\\left( \\partial_{t}^{(1)} f_{i}^{(0)} + \\left( \\partial_{t}^{(0)} + e_{i,\\alpha}\\partial_{\\alpha} \\right)^{2} \\displaystyle\\left( \\frac{1}{2}-\\tau\\right) f_{i}^{(0)} \\right) =  \\displaystyle\\sum_{i}\\left( - \\displaystyle\\frac{ f_{i}^{(2)} }{ \\tau } \\right), \\\\\n",
    "(Kn^{(2)}): \\left( \\displaystyle\\frac{1}{2}-\\tau\\right) \\partial_{\\alpha}\\partial_{\\beta} \\left(c_{s}^{2} \\widehat{p} \\delta_{\\alpha\\beta} \\right) =0. \n",
    "\\end{array}\n",
    "$$\n",
    "\n",
    "or\n",
    "\n",
    "$$\n",
    "\\begin{array}{l}\n",
    "(Kn^{(2)}):& \\displaystyle\\sum_{i}\\left[ \\partial_{t}^{(1)} f_{i}^{(0)} - \\left(1-\\displaystyle\\frac{1}{2\\tau}\\right)\\left( \\partial_{t}^{(0)} + e_{\\alpha,i}\\partial_{\\alpha} \\right) f_{i}^{(1)}   \\right]=  \\displaystyle\\sum_{i}\\left( - \\displaystyle\\frac{f_{i}^{(2)}}{\\tau} \\right), \\nonumber \\\\\n",
    "(Kn^{(2)}):& - \\left(1-\\displaystyle\\frac{1}{2\\tau}\\right) m^{(1)}_{\\alpha} = 0.\n",
    "\\end{array}\n",
    "$$(Kn1-0-B0)\n",
    "\n",
    "where $m^{(1)}_{\\alpha}$ is the first-order moment of $f_{i}^{(1)}$ and $1/(1-w_{0})\\sum_{i=1}f_{i}^{(j)}=0$ for $j\\geq 1$ due to imposition of $\\widehat{p}$ conservation. To compute the moment $m^{(1)}_{\\alpha}$, we multiply Eq. {eq}`Chap-Kn-Poisson-Eq` by $e_{i,\\alpha}$ and sum over all lattice directions:\n",
    "\n",
    "$$\n",
    "\\begin{array}{l}\n",
    "(Kn^{(1)}): \\displaystyle\\sum_{i}e_{\\alpha,i}\\left( \\partial_{t}^{(0)} + e_{\\beta,i}\\partial_{\\beta} \\right)f_{i}^{(0)}= \\displaystyle\\sum_{i} e_{\\alpha,i} \\left( -\\frac{f_{i}^{(1)}}{\\tau}  \\right),\\\\\n",
    "(Kn^{(1)}): m^{(1)}_{\\alpha} =-\\tau \\partial_{\\beta}\\left( c_{s}^{2} \\widehat{p} \\delta_{\\alpha\\beta}  \\right).\n",
    "\\end{array}\n",
    "$$(Kn0-B1)\n",
    "\n",
    "\n",
    "By substituting Eq. {eq}`Kn0-B1` into Eq. {eq}`Kn1-0-B0`, we recover the Eq. {eq}`poisson-eq-lb`, where $\\nu=c_{s}^{2}(\\tau-1/2)$. In the regularized formulation of the lattice Boltzmann equation, the first-order correction is approximated as $f_{i}^{(1)}\\approx (f_{i}-f_{i}^{(0)})=f_{i}^{neq}$, where higher-order Knudsen moments are filtered out and the collision term is reformulated in terms of $f_{i}^{neq}$."
   ]
  },
  {
   "cell_type": "markdown",
   "id": "4b61894d-6d61-4add-bd4e-df0f4152e4b0",
   "metadata": {},
   "source": [
    "## Boundary Conditions"
   ]
  },
  {
   "cell_type": "markdown",
   "id": "ed93dfc9-ba29-4d8d-be1f-171915679ccc",
   "metadata": {},
   "source": [
    "The boundary conditions for the lattice D2Q5 can be derived by solving a linear system of known moments, as illustrated in {doc}`bcs-D2Q5-poisson-equation`. For the D2Q5 lattice, the unknown distribution functions at each boundary are determined as summarized in Table below.\n"
   ]
  },
  {
   "cell_type": "markdown",
   "id": "f54a7557-ad25-4316-b739-152ff0de3633",
   "metadata": {},
   "source": [
    "|    Boundaries   |   |                                      Layers                                     |   |                                                                                 |\n",
    "|:---------------:|:-:|:-------------------------------------------------------------------------------:|:-:|:-------------------------------------------------------------------------------:|\n",
    "|                 |   |                                      North                                      |   |                                      South                                      |\n",
    "| Unknown $f_{i}$ |   |                $f_2=\\widehat{p}_{n}(1-w_{0}) - (f_1+f_3+f_4)$               |   |                $f_4=\\widehat{p}_{s}(1-w_{0}) - (f_1+f_2+f_3)$               |\n",
    "|                 |   |                                       East                                      |   |                                       West                                      |\n",
    "|                 |   |                $f_3=\\widehat{p}_{e}(1-w_{0}) - (f_1+f_2+f_4)$               |   |                $f_1=\\widehat{p}_{w}(1-w_{0}) - (f_2+f_3+f_4)$               |\n",
    "|    Boundaries   |   |                                 Concave Corners                                 |   |                                                                                 |\n",
    "|                 |   |                                    Northwest                                    |   |                                    Northeast                                    |\n",
    "| Unknown $f_{i}$ |   | $f_1=-(\\partial_{x}\\widehat{p}+\\partial_{y}\\widehat{p})\\tau c_{s}^{2}/2 - f_2 + \\widehat{p}_{nw}/3$ |   |  $f_3=(\\partial_{x}\\widehat{p}-\\partial_{y}\\widehat{p})\\tau c_{s}^{2}/2 - f_2 + \\widehat{p}_{ne}/3$ |\n",
    "|                 |   |  $f_4=(\\partial_{x}\\widehat{p}+\\partial_{y}\\widehat{p})\\tau c_{s}^{2}/2 - f_3 + \\widehat{p}_{nw}/3$ |   | $f_4=-(\\partial_{x}\\widehat{p}-\\partial_{y}\\widehat{p})\\tau c_{s}^{2}/2 - f_1 + \\widehat{p}_{ne}/3$ |\n",
    "|                 |   |                                    Southwest                                    |   |                                    Southeast                                    |\n",
    "|                 |   | $f_1=-(\\partial_{x}\\widehat{p}-\\partial_{y}\\widehat{p})\\tau c_{s}^{2}/2 - f_4 + \\widehat{p}_{sw}/3$ |   | $f_2=-(\\partial_{x}\\widehat{p}+\\partial_{y}\\widehat{p})\\tau c_{s}^{2}/2 - f_1 + \\widehat{p}_{se}/3$ |\n",
    "|                 |   |  $f_2=(\\partial_{x}\\widehat{p}-\\partial_{y}\\widehat{p})\\tau c_{s}^{2}/2 - f_3 + \\widehat{p}_{sw}/3$ |   |  $f_3=(\\partial_{x}\\widehat{p}+\\partial_{y}\\widehat{p})\\tau c_{s}^{2}/2 - f_4 + \\widehat{p}_{se}/3$ |"
   ]
  },
  {
   "cell_type": "markdown",
   "id": "e1f9e820-03c0-4658-9c8c-e6229db31935",
   "metadata": {},
   "source": [
    "## Benchmarks"
   ]
  },
  {
   "cell_type": "markdown",
   "id": "6df19af3-6297-4687-8d9c-e6635786b6a0",
   "metadata": {
    "editable": true,
    "slideshow": {
     "slide_type": ""
    },
    "tags": []
   },
   "source": [
    "Analyzing the accuracy of Poisson equation solver, we apply it to a two-dimensional analytical case. The geometry is described by a square domain of length $L$ initialized with a constant dimensionless pressure $\\widehat{p}(x,y,t=0)=0$. The boundary conditions of the geometry are given by\n",
    "\n",
    "$$\n",
    "\\widehat{p}(x=0,y,t)=\\displaystyle\\frac{sinh\\left(\\pi(1-y)\\right)}{sinh\\left(\\pi\\right)}, \\quad \\quad \\widehat{p}(x=L,y,t)= -\\frac{sinh\\left(\\pi(1-y)\\right)}{sinh\\left(\\pi\\right)}, \\quad \\quad \\widehat{p}(x,y=0,t)=cos(\\pi x), \\quad \\quad \\widehat{p}(x,y=L,t)=0.\n",
    "$$\n",
    "\n",
    "The pressure analytical solution for Eq. {eq}`poisson-eq-lb` pressure is given\n",
    "\n",
    "$$\n",
    "    \\widehat{p}(x,y,t)=cos(\\pi x) \\displaystyle\\frac{sinh\\left(\\pi(1-y)\\right)}{sinh\\left(\\pi\\right)}\n",
    "$$\n",
    "\n",
    "where $Dp_{0}$ is considered equal to 1, consequently, velocity values can be analytically obtained by the equation:\n",
    "\n",
    "$$\n",
    "    u_{x}=D\\partial_{x}p= \\pi sin(\\pi x) \\displaystyle\\frac{sinh\\left(\\pi(1-y)\\right)}{sinh\\left(\\pi\\right)}, \\quad \\quad u_{y}=D\\partial_{y}p= \\pi cos(\\pi x) \\displaystyle\\frac{cosh\\left(\\pi(1-y)\\right)}{sinh\\left(\\pi\\right)}.\n",
    "$$"
   ]
  },
  {
   "cell_type": "markdown",
   "id": "874a3590-6f9b-476d-b09b-0297c35c7af1",
   "metadata": {
    "editable": true,
    "slideshow": {
     "slide_type": ""
    },
    "tags": []
   },
   "source": [
    "### Python LBM Code"
   ]
  },
  {
   "cell_type": "code",
   "execution_count": null,
   "id": "b93f9691-7541-41ec-9723-1448e450c5f8",
   "metadata": {
    "editable": true,
    "slideshow": {
     "slide_type": ""
    },
    "tags": [
     "skip-execution"
    ]
   },
   "outputs": [],
   "source": [
    "from pylab import *\n",
    "#***************************************InputParameters************************************************\n",
    "Nx=201 #Square Domain Length\n",
    "Ny=Nx\n",
    "#***************************************Lattice-Properties-D2Q5*************************************************\n",
    "w = np.array([2.0/6.0, 1.0/6.0, 1.0/6.0, 1.0/6.0, 1.0/6.0],dtype=\"float64\")\n",
    "cx = np.array([0, 1, 0, -1,  0],dtype=\"int16\")  \n",
    "cy = np.array([0, 0, 1,  0, -1],dtype=\"int16\") \n",
    "#********************************************Set-Parameters*********************************************\n",
    "#------------Dimensionless-Data----------------\n",
    "Do = 1.0;Lo = 1.0;\n",
    "#------------LBM-Data----------------\n",
    "dx = Lo/(Nx-1);\n",
    "rel = 2.0**9.21 *2**(1);\n",
    "dt = dx / rel;\n",
    "D = dt * Do / (dx * dx); \n",
    "cs = 1.0 / sqrt(3.);\n",
    "a = 1.0 / cs;\n",
    "tau = (D / (cs * cs)) + (1. / 2.); \n",
    "#--------------Print-Dados---------------------\n",
    "print('tau=',tau,'\\t D=',D)\n",
    "print('rel=',rel)\n",
    "print('dx=',dx,'\\t dt=',dt)"
   ]
  },
  {
   "cell_type": "code",
   "execution_count": null,
   "id": "39a30f7b-3c1f-4877-9bb7-e9d578e18d40",
   "metadata": {
    "editable": true,
    "slideshow": {
     "slide_type": ""
    },
    "tags": [
     "skip-execution"
    ]
   },
   "outputs": [],
   "source": [
    "#********************************Initializing-Pressure-Boundaries***********************************************************\n",
    "x=np.linspace(0.0,Lo,Nx) #x-array Length\n",
    "y=np.linspace(0.0,Lo,Ny) #y-array Length\n",
    "p=np.zeros((Nx,Ny),dtype=\"float64\") #Allocating Pressure Field\n",
    "# ------------------------North-Boundary---------------------------------\n",
    "p[:,Ny-1]=0 #North Boundary\n",
    "dxpn=np.zeros((Nx),dtype=\"float64\") #Allocating Pressure Field\n",
    "dxpn[:]=0*dx # dxp North Boundary (To be used in Corner BC)\n",
    "# ------------------------South-Boundary---------------------------------\n",
    "p[:,0]=np.cos(np.pi*x[:]) #Pressure South Boundary\n",
    "dxps=np.zeros((Nx),dtype=\"float64\") #Allocating Grad-Pressure\n",
    "dxps[:]=-np.pi*np.sin(np.pi*x[:])*dx # dxp South Boundary (To be used in Corner BC)\n",
    "# ------------------------West-Boundary---------------------------------\n",
    "p[0,:]=np.sinh(np.pi*(1-y[:]))/np.sinh(np.pi) #West Boundary\n",
    "dypw=np.zeros((Ny),dtype=\"float64\") #Allocating Grad-Pressure\n",
    "dypw[:]=-np.pi*np.cosh(np.pi*(1-y[:]))/np.sinh(np.pi)*dx # dyp West Boundary (To be used in Corner BC)\n",
    "# ------------------------East-Boundary---------------------------------\n",
    "p[Nx-1,:]=-np.sinh(np.pi*(1-y[:]))/np.sinh(np.pi) #East Boundary\n",
    "dype=np.zeros((Ny),dtype=\"float64\") #Allocating Grad-Pressure\n",
    "dype[:]=np.pi*np.cosh(np.pi*(1-y[:]))/np.sinh(np.pi)*dx # dyp East Boundary (To be used in Corner BC)\n",
    "#********************************Initialize-Distribution-Function***********************************************************\n",
    "f=np.zeros((5,Nx,Ny),dtype=\"float64\") #Allocating Distribution Function\n",
    "fp=np.zeros((5,Nx,Ny),dtype=\"float64\") #Allocating Post-Colisional Distribution Function\n",
    "f[0,:,:]=(w[0]-1.0)*p[:,:]\n",
    "for k in range(1,5):\n",
    "    f[k,:,:]=w[k]*p[:,:]\n",
    "fp=f"
   ]
  },
  {
   "cell_type": "code",
   "execution_count": null,
   "id": "2732b9af-f0a1-42e1-a3c6-9ef4f58a3654",
   "metadata": {
    "editable": true,
    "slideshow": {
     "slide_type": ""
    },
    "tags": [
     "skip-execution"
    ]
   },
   "outputs": [],
   "source": [
    "import time\n",
    "mstep=40000\n",
    "start=time.time()\n",
    "for kk in range(0,mstep):\n",
    "    #*******Collision********\n",
    "    fp[0,:,:]=f[0,:,:]-(f[0,:,:]-(w[0]-1.0)*p[:,:])/tau # Collision Lattice Index 0\n",
    "    for k in range(1,5):\n",
    "        fp[k,:,:]=f[k,:,:]-(f[k,:,:]-w[k]*p[:,:])/tau # Collision Lattice Index 1-4\n",
    "    #*******Streaming********\n",
    "    for k in range(0,5):\n",
    "        f[k,:,:]=np.roll(np.roll(fp[k,:,:], cx[k], axis=0), cy[k], axis=1)\n",
    "    #************Boundary-Conditions**********\n",
    "    f[4,1:-1,Ny-1]=-(f[1,1:-1,Ny-1]+f[2,1:-1,Ny-1]+f[3,1:-1,Ny-1]) #North\n",
    "    f[2,1:-1,0]=np.cos(np.pi*x[1:-1])*(1.0-w[0])-(f[1,1:-1,0]+f[3,1:-1,0]+f[4,1:-1,0]) #South\n",
    "    f[1,0,1:-1]=np.sinh(np.pi*(1-y[1:-1]))/np.sinh(np.pi)*(1.0-w[0])-(f[2,0,1:-1]+f[3,0,1:-1]+f[4,0,1:-1]) #West\n",
    "    f[3,Nx-1,1:-1]=-np.sinh(np.pi*(1-y[1:-1]))/np.sinh(np.pi)*(1.0-w[0])-(f[1,Nx-1,1:-1]+f[2,Nx-1,1:-1]+f[4,Nx-1,1:-1]) #East\n",
    "    #************Corner-Boundaries**********\n",
    "    #----------------NorthWest----------------------\n",
    "    f[1,0,Ny-1]=-(dxpn[0]+dypw[Ny-1])*tau*cs**2/2 -f[2,0,Ny-1]\n",
    "    f[4,0,Ny-1]=(dxpn[0]+dypw[Ny-1])*tau*cs**2/2 -f[3,0,Ny-1]\n",
    "    #----------------NorthEast----------------------\n",
    "    f[3,Nx-1,Ny-1]=(dxpn[Nx-1]-dype[Ny-1])*tau*cs**2/2 -f[2,Nx-1,Ny-1]\n",
    "    f[4,Nx-1,Ny-1]=-(dxpn[Nx-1]-dype[Ny-1])*tau*cs**2/2 -f[1,Nx-1,Ny-1]\n",
    "    #----------------SouthWest----------------------\n",
    "    f[1,0,0]=-(dxps[0]-dypw[0])*tau*cs**2/2 -f[4,0,0] +np.cos(np.pi*x[0])/3.0\n",
    "    f[2,0,0]=(dxps[0]-dypw[0])*tau*cs**2/2 -f[3,0,0] +np.cos(np.pi*x[0])/3.0\n",
    "    #----------------SouthEast----------------------\n",
    "    f[2,Nx-1,0]=-(dxps[Nx-1]+dype[0])*tau*cs**2/2 -f[1,Nx-1,0] +np.cos(np.pi*x[Nx-1])/3.0\n",
    "    f[3,Nx-1,0]=(dxps[Nx-1]+dype[0])*tau*cs**2/2 -f[4,Nx-1,0] +np.cos(np.pi*x[Nx-1])/3.0\n",
    "    #***********Macro********\n",
    "    p=(f[1,:,:]+f[2,:,:]+f[3,:,:]+f[4,:,:])/(1.0-w[0])\n",
    "\n",
    "end=time.time();\n",
    "runtime = end-start;\n",
    "nodes_updated = mstep*Nx*Ny;\n",
    "speed = nodes_updated/(1e6*runtime);\n",
    "print('runtime=',runtime)\n",
    "print('Mlups=',speed)"
   ]
  },
  {
   "cell_type": "code",
   "execution_count": null,
   "id": "d4d23e69-82cb-48c1-a59c-6c5011528dfe",
   "metadata": {
    "editable": true,
    "slideshow": {
     "slide_type": ""
    },
    "tags": [
     "skip-execution"
    ]
   },
   "outputs": [],
   "source": [
    "dpx=np.zeros((Nx,Ny),dtype=\"float64\")\n",
    "dpy=np.zeros((Nx,Ny),dtype=\"float64\")\n",
    "u=np.zeros((Nx,Ny),dtype=\"float64\")\n",
    "v=np.zeros((Nx,Ny),dtype=\"float64\")\n",
    "dxr=-np.einsum('i,ixy->xy', cx, f)/(cs**2*tau)\n",
    "dyr=-np.einsum('i,ixy->xy', cy, f)/(cs**2*tau)\n",
    "u=np.einsum('i,ixy->xy', cx, f)*(1.0-1.0/(2.0*tau))\n",
    "v=np.einsum('i,ixy->xy', cy, f)*(1.0-1.0/(2.0*tau))\n",
    "fig1, (ax1,ax2,ax3) = plt.subplots(ncols=3,figsize=(13,4))\n",
    "img1=ax1.imshow(rot90(p),cmap='jet', interpolation='none')\n",
    "# img1=ax1.contourf(xl,yl,p,cmap='jet')\n",
    "fig1.colorbar(img1, ax=ax1)\n",
    "img2=ax2.imshow(rot90(-u),cmap='jet', interpolation='none')\n",
    "fig1.colorbar(img2, ax=ax2)\n",
    "img3=ax3.imshow(rot90(-v),cmap='jet', interpolation='none')\n",
    "fig1.colorbar(img3, ax=ax3)"
   ]
  },
  {
   "cell_type": "code",
   "execution_count": null,
   "id": "5af72be5-ccbf-401a-8181-4e99a0c5e4da",
   "metadata": {
    "editable": true,
    "slideshow": {
     "slide_type": ""
    },
    "tags": [
     "skip-execution"
    ]
   },
   "outputs": [],
   "source": [
    "#********************************Analytical-Slution***********************************************************\n",
    "yl, xl =np.meshgrid(x,y)\n",
    "pana=np.cos(np.pi*xl)*np.sinh(np.pi*(1-yl))/np.sinh(np.pi)\n",
    "dxp=-np.pi*np.sin(np.pi*xl)*np.sinh(np.pi*(1-yl))/np.sinh(np.pi)\n",
    "dyp=-np.pi*np.cos(np.pi*xl)*np.cosh(np.pi*(1-yl))/np.sinh(np.pi)"
   ]
  },
  {
   "cell_type": "code",
   "execution_count": null,
   "id": "ca538c8b-0111-45f9-81b9-f3b7fc1bc878",
   "metadata": {
    "editable": true,
    "slideshow": {
     "slide_type": ""
    },
    "tags": [
     "skip-execution"
    ]
   },
   "outputs": [],
   "source": [
    "fig1, (ax1,ax2,ax3) = plt.subplots(ncols=3,figsize=(13,4))\n",
    "img1=ax1.imshow(rot90(p-pana),cmap='jet', interpolation='none')\n",
    "fig1.colorbar(img1, ax=ax1)\n",
    "img2=ax2.imshow(rot90(u+dxp*dt/dx),cmap='jet', interpolation='none')\n",
    "fig1.colorbar(img2, ax=ax2)\n",
    "img3=ax3.imshow(rot90(v+dyp*dt/dx),cmap='jet', interpolation='none')\n",
    "fig1.colorbar(img3, ax=ax3)"
   ]
  },
  {
   "cell_type": "code",
   "execution_count": null,
   "id": "155a3a1c-a162-4fe5-9fca-b0abff31b758",
   "metadata": {
    "editable": true,
    "slideshow": {
     "slide_type": ""
    },
    "tags": [
     "skip-execution"
    ]
   },
   "outputs": [],
   "source": [
    "Errop=sqrt(sum((p-pana)**2))/sqrt(sum((pana)**2))\n",
    "print('ErroP=',Errop)\n",
    "ErroDxp=sqrt(sum((dxr-dxp*dx)**2))/sqrt(sum((dxp*dx)**2))\n",
    "print('ErroDxP=',ErroDxp)\n",
    "ErroDyp=sqrt(sum((dyr-dyp*dx)**2))/sqrt(sum((dyp*dx)**2))\n",
    "print('ErroDyP=',ErroDyp)\n",
    "ErroU=sqrt(sum((u+dxp*dt/dx)**2))/sqrt(sum((dxp*dt/dx)**2))\n",
    "print('ErroU=',ErroU)\n",
    "ErroV=sqrt(sum((v+dyp*dt/dx)**2))/sqrt(sum((dyp*dt/dx)**2))\n",
    "print('ErroV=',ErroV)"
   ]
  },
  {
   "cell_type": "code",
   "execution_count": null,
   "id": "d443a0da-bad8-4233-a87f-cb8b03a185ac",
   "metadata": {
    "editable": true,
    "slideshow": {
     "slide_type": ""
    },
    "tags": [
     "skip-execution"
    ]
   },
   "outputs": [],
   "source": [
    "Ep0 = np.array([7.581804223832276e-05,1.9455755168783066e-05,3.516132010721964e-06])\n",
    "Eu0 = np.array([0.0006494761036563891,0.00016159075773188218,4.0610389371128424e-05])\n",
    "Ev0 = np.array([0.0006276179205283175,0.00015809795152452036,4.0377973496062506e-05])\n",
    "Ep1 = np.array([0.00014879659187283224,3.820589700871858e-05,9.463298002459788e-06])\n",
    "Eu1 = np.array([0.000970989709570425,0.00024123452788356743,6.011830955335574e-05])\n",
    "Ev1 = np.array([0.0009217796134524976,0.00023270365330683272,5.8498500603119967e-05])\n",
    "Malha=np.array([51,101,201])"
   ]
  },
  {
   "cell_type": "code",
   "execution_count": null,
   "id": "43e7d846-b55d-432c-b4aa-de9c9febb177",
   "metadata": {
    "editable": true,
    "slideshow": {
     "slide_type": ""
    },
    "tags": [
     "skip-execution"
    ]
   },
   "outputs": [],
   "source": [
    "print(Ep)\n",
    "TEp=np.polyfit(np.log(Malha), np.log(Ep0), 1)\n",
    "print(TEp)"
   ]
  },
  {
   "cell_type": "code",
   "execution_count": null,
   "id": "f6b4f773-3744-4ed4-8425-f0c4792991d7",
   "metadata": {
    "editable": true,
    "slideshow": {
     "slide_type": ""
    },
    "tags": [
     "skip-execution"
    ]
   },
   "outputs": [],
   "source": [
    "print(Eu)\n",
    "TEu=np.polyfit(np.log(Malha), np.log(Eu0), 1)\n",
    "print(TEu)"
   ]
  },
  {
   "cell_type": "code",
   "execution_count": null,
   "id": "28285872-d24c-41c0-91b2-e096ec44ee83",
   "metadata": {
    "editable": true,
    "slideshow": {
     "slide_type": ""
    },
    "tags": [
     "skip-execution"
    ]
   },
   "outputs": [],
   "source": [
    "print(Ev)\n",
    "TEv=np.polyfit(np.log(Malha), np.log(Ev0), 1)\n",
    "print(TEv)"
   ]
  },
  {
   "cell_type": "code",
   "execution_count": null,
   "id": "de5d7e74-96be-4ddc-809f-40ccd02088b2",
   "metadata": {
    "editable": true,
    "slideshow": {
     "slide_type": ""
    },
    "tags": [
     "skip-execution"
    ]
   },
   "outputs": [],
   "source": [
    "matplotlib.rcParams['mathtext.fontset'] = 'cm'\n",
    "plt.loglog(1/Malha,Ep0,'rs--',fillstyle='none')\n",
    "plt.loglog(1/Malha,Eu0,'ro:',fillstyle='none')\n",
    "plt.loglog(1/Malha,Ev0,'rv-.',fillstyle='none')\n",
    "plt.loglog(1/Malha,Ep1,'ks--',fillstyle='none')\n",
    "plt.loglog(1/Malha,Eu1,'ko:',fillstyle='none')\n",
    "plt.loglog(1/Malha,Ev1,'kv-.',fillstyle='none')\n",
    "plt.loglog(1/Malha,4.*1.0/(Malha**2),'k-',fillstyle='none')\n",
    "# plt.ylabel('$Error$')\n",
    "plt.ylim(0,0.01)\n",
    "plt.ylabel('$E_{\\eta}$',fontsize=16,rotation=0,horizontalalignment='right')\n",
    "plt.xlabel('$\\Delta x$',fontsize=16)\n",
    "plt.legend(['$\\\\tau=1$ - $E_{p}=-2.23$', '$\\\\tau=1$ - $E_{u_{x}}=-2.02$','$\\\\tau=1$ - $E_{u_{y}}=-2.00$',\n",
    "            '$\\\\tau=0.79$ - $E_{p}=-2.01$', '$\\\\tau=0.78$ - $E_{u_{x}}=-2.03$','$\\\\tau=0.79$ - $E_{u_{y}}=-2.01$',\n",
    "            '$Slope=-2$'],loc=2,ncol=3,fontsize=8.5)\n",
    "plt.savefig('conv', dpi=300, bbox_inches='tight')"
   ]
  },
  {
   "cell_type": "code",
   "execution_count": null,
   "id": "e85e075e-be4b-46a1-8485-8ac6719e23ee",
   "metadata": {
    "editable": true,
    "slideshow": {
     "slide_type": ""
    },
    "tags": [
     "skip-execution"
    ]
   },
   "outputs": [],
   "source": [
    "matplotlib.rcParams['mathtext.fontset'] = 'cm'\n",
    "plt.plot(x,-dxp[int((Nx-1)/2),:],'k-',label='Analytical')\n",
    "plt.plot(x,u[int((Nx-1)/2),:]*dx/dt,'r--',label='Numerical')\n",
    "plt.xlim(0,1);plt.ylim(0,3.5)\n",
    "plt.xlabel('$y$',fontsize=16)\n",
    "# plt.ylabel('$u_{x}(0.5,y)$',fontsize=18,horizontalalignment='right',rotation=0)\n",
    "plt.ylabel('$u_{x}(0.5,y)$',fontsize=16,horizontalalignment='right')\n",
    "plt.legend(loc=1,fontsize=14)\n",
    "plt.savefig('ux0', dpi=300, bbox_inches='tight')"
   ]
  },
  {
   "cell_type": "code",
   "execution_count": null,
   "id": "a792839f-a49a-408f-bba7-8379d94111aa",
   "metadata": {
    "editable": true,
    "slideshow": {
     "slide_type": ""
    },
    "tags": [
     "skip-execution"
    ]
   },
   "outputs": [],
   "source": [
    "matplotlib.rcParams['mathtext.fontset'] = 'cm'\n",
    "plt.plot(y,-dyp[int((Nx-1)/2),:],'k-',label='Analytical')\n",
    "plt.plot(y,v[int((Nx-1)/2),:]*dx/dt,'r--',label='Numerical')\n",
    "plt.xlim(0,1);plt.ylim(-1,1.)\n",
    "plt.xlabel('$y$',fontsize=16)\n",
    "# plt.ylabel('$u_{x}(0.5,y)$',fontsize=18,horizontalalignment='right',rotation=0)\n",
    "plt.ylabel('$u_{y}(0.5,y)$',fontsize=16,horizontalalignment='right')\n",
    "plt.legend(loc=1,fontsize=14)\n",
    "plt.legend(loc=1,fontsize=14)\n",
    "plt.savefig('uy0', dpi=300, bbox_inches='tight')"
   ]
  },
  {
   "cell_type": "code",
   "execution_count": null,
   "id": "9a048beb-cece-40d5-9b21-299dd02719ed",
   "metadata": {
    "editable": true,
    "slideshow": {
     "slide_type": ""
    },
    "tags": [
     "skip-execution"
    ]
   },
   "outputs": [],
   "source": [
    "matplotlib.rcParams['mathtext.fontset'] = 'cm'\n",
    "plt.plot(x,-dxp[:,int((Nx-1)/2)],'k-',label='Analytical')\n",
    "plt.plot(x,u[:,int((Nx-1)/2)]*dx/dt,'r--',label='Numerical')\n",
    "plt.xlim(0,1);plt.ylim(0,0.7)\n",
    "plt.xlabel('$x$',fontsize=16)\n",
    "# plt.ylabel('$u_{x}(0.5,y)$',fontsize=18,horizontalalignment='right',rotation=0)\n",
    "plt.ylabel('$u_{x}(x,0.5)$',fontsize=16,horizontalalignment='right')\n",
    "plt.legend(fontsize=14)\n",
    "plt.legend(loc=1,fontsize=14)\n",
    "plt.savefig('ux1', dpi=300, bbox_inches='tight')"
   ]
  },
  {
   "cell_type": "code",
   "execution_count": null,
   "id": "650edb78-26fb-45b8-96c2-10cc50f49c40",
   "metadata": {
    "editable": true,
    "slideshow": {
     "slide_type": ""
    },
    "tags": [
     "skip-execution"
    ]
   },
   "outputs": [],
   "source": [
    "matplotlib.rcParams['mathtext.fontset'] = 'cm'\n",
    "plt.plot(y,-dyp[:,int((Nx-1)/2)],'k-',label='Analytical')\n",
    "plt.plot(y,v[:,int((Nx-1)/2)]*dx/dt,'r--',label='Numerical')\n",
    "plt.xlim(0,1);plt.ylim(-1,1.)\n",
    "plt.xlabel('$x$',fontsize=16)\n",
    "# plt.ylabel('$u_{x}(0.5,y)$',fontsize=18,horizontalalignment='right',rotation=0)\n",
    "plt.ylabel('$u_{y}(x,0.5)$',fontsize=16,horizontalalignment='right')\n",
    "plt.legend(loc=1,fontsize=14)\n",
    "plt.legend(loc=1,fontsize=14)\n",
    "plt.savefig('uy1', dpi=300, bbox_inches='tight')"
   ]
  },
  {
   "cell_type": "code",
   "execution_count": null,
   "id": "9b01e39f-4c4e-4220-9f82-3759413b704d",
   "metadata": {
    "editable": true,
    "slideshow": {
     "slide_type": ""
    },
    "tags": [
     "skip-execution"
    ]
   },
   "outputs": [],
   "source": [
    "plt.contourf(xl,yl,p,100,cmap='jet')\n",
    "plt.colorbar()\n",
    "plt.xlabel('$x$',fontsize=16)\n",
    "plt.ylabel('$y$',fontsize=16,rotation=0)\n",
    "plt.savefig('pf', dpi=300, bbox_inches='tight')"
   ]
  },
  {
   "cell_type": "code",
   "execution_count": null,
   "id": "63806b29-8813-4507-a3d6-dad401b568ec",
   "metadata": {
    "editable": true,
    "slideshow": {
     "slide_type": ""
    },
    "tags": [
     "skip-execution"
    ]
   },
   "outputs": [],
   "source": [
    "plt.contourf(xl,yl,u,100,cmap='jet')\n",
    "plt.colorbar()\n",
    "plt.xlabel('$x$',fontsize=16)\n",
    "plt.ylabel('$y$',fontsize=16,rotation=0)\n",
    "plt.savefig('uf', dpi=300, bbox_inches='tight')"
   ]
  },
  {
   "cell_type": "code",
   "execution_count": null,
   "id": "76bfeb35-1c02-48ee-8330-16a986683aa6",
   "metadata": {
    "editable": true,
    "slideshow": {
     "slide_type": ""
    },
    "tags": [
     "skip-execution"
    ]
   },
   "outputs": [],
   "source": [
    "plt.contourf(xl,yl,v,100,cmap='jet')\n",
    "plt.colorbar()\n",
    "plt.xlabel('$x$',fontsize=16)\n",
    "plt.ylabel('$y$',fontsize=16,rotation=0)\n",
    "plt.savefig('vf', dpi=300, bbox_inches='tight')"
   ]
  }
 ],
 "metadata": {
  "celltoolbar": "Edit Metadata",
  "kernelspec": {
   "display_name": "Python 3 (ipykernel)",
   "language": "python",
   "name": "python3"
  },
  "language_info": {
   "codemirror_mode": {
    "name": "ipython",
    "version": 3
   },
   "file_extension": ".py",
   "mimetype": "text/x-python",
   "name": "python",
   "nbconvert_exporter": "python",
   "pygments_lexer": "ipython3",
   "version": "3.10.12"
  },
  "varInspector": {
   "cols": {
    "lenName": 16,
    "lenType": 16,
    "lenVar": 40
   },
   "kernels_config": {
    "python": {
     "delete_cmd_postfix": "",
     "delete_cmd_prefix": "del ",
     "library": "var_list.py",
     "varRefreshCmd": "print(var_dic_list())"
    },
    "r": {
     "delete_cmd_postfix": ") ",
     "delete_cmd_prefix": "rm(",
     "library": "var_list.r",
     "varRefreshCmd": "cat(var_dic_list()) "
    }
   },
   "types_to_exclude": [
    "module",
    "function",
    "builtin_function_or_method",
    "instance",
    "_Feature"
   ],
   "window_display": false
  }
 },
 "nbformat": 4,
 "nbformat_minor": 5
}
