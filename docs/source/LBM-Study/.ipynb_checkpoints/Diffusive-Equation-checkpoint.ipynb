{
 "cells": [
  {
   "cell_type": "markdown",
   "id": "1d2eb3be-2943-4811-967e-c481ad04bc2b",
   "metadata": {},
   "source": [
    "# Diffusive Equation\n",
    "\n",
    "The diffusive equation is described by\n",
    "\n",
    "$$\n",
    "\\partial_t \\phi \\partial_{\\alpha}\\left( \\nu \\partial_{\\alpha}\\phi \\right) = 0.\n",
    "$$(df-eq-lb)\n",
    "\n",
    "where $\\phi(\\alpha,t)i$ is a time and space dependent parameter and $\\nu$ is diffusive coeficient. \n"
   ]
  },
  {
   "cell_type": "markdown",
   "id": "320b11c7-d9a3-4634-bb62-1388136ac2be",
   "metadata": {},
   "source": [
    "## Lattice Boltzmann Equation\n",
    "\n",
    "Describing the problem through the BGK lattice Boltzmann equation (BGK-LB):\n",
    "\n",
    "$$\n",
    "f_i( x_{\\alpha} + e_{i,\\alpha} \\delta t, t+\\delta t) = f_i(x_{\\alpha}, t)  -\\left( \\frac{ f_{i} - f_{i}^{eq} }{ \\tau } \\right), \n",
    "$$(LB-Poisson-Eq)\n",
    "\n",
    "the equilibrium distribution function is defined by\n",
    "\n",
    "$$\n",
    "f^{eq}_{i} = w_{i}\\phi(x_{\\alpha}, t),\n",
    "$$\n",
    "\n",
    "where the equilibrium moments are given by \n",
    "\n",
    "$$\n",
    "\\displaystyle\\sum_{i=0} f_{i}^{eq}=\\phi, \\quad \\quad  \\displaystyle\\sum_{i}f_{i}^{eq} e_{i,\\alpha} =0 \\quad \\quad \\textrm{and} \\quad \\quad  \\displaystyle\\sum_{i}f_{i}^{eq} e_{i,\\alpha} e_{i,\\beta} =c_{s}^{2} \\phi \\delta_{\\alpha\\beta}.\n",
    "$$(moments-fi-df)\n",
    "\n",
    "Through Chapman–Enskog analysis, it is demonstrated that the first-order non-equilibrium moment describes the pressure gradient and, consequently, the average velocity:\n",
    "\n",
    "$$\n",
    "m^{neq}_{\\alpha} = \\displaystyle\\sum_{i} e_{i,\\alpha}\\left( f_i-f_i^{eq}\\right)  = -(c_{s}^{2} \\tau \\delta_{t})\\partial_{\\alpha}\\widehat{p} \\quad \\quad \\textrm{and} \\quad\\quad \\tau = \\displaystyle\\frac{Dp_{0}}{c_{s}^{2} \\delta_{t}} +\\frac{1}{2}.\n",
    "$$"
   ]
  },
  {
   "cell_type": "markdown",
   "id": "19e0fe2f-9838-4cd3-8c2b-4c70847ddf4b",
   "metadata": {},
   "source": [
    "The Poisson is partial differential equation employed to represent problems as the pressure distribution over steady-state in space. It is characterized by a steady-state version of the difusive equation, i.e, the parameter is independent of time. The partial differential equation is given by \n",
    "\n",
    "$$\n",
    "\\partial_{\\alpha}\\left( -D \\partial_{\\alpha}p \\right) = 0.\n",
    "$$(poisson-eq-lb)\n",
    "\n",
    "where $p$ is the pressure and $D$ diffusive control paremeter."
   ]
  },
  {
   "cell_type": "code",
   "execution_count": null,
   "id": "75708137-a0a2-4d6a-b6b9-2f8cf33c4a0a",
   "metadata": {},
   "outputs": [],
   "source": []
  }
 ],
 "metadata": {
  "kernelspec": {
   "display_name": "Python 3 (ipykernel)",
   "language": "python",
   "name": "python3"
  },
  "language_info": {
   "codemirror_mode": {
    "name": "ipython",
    "version": 3
   },
   "file_extension": ".py",
   "mimetype": "text/x-python",
   "name": "python",
   "nbconvert_exporter": "python",
   "pygments_lexer": "ipython3",
   "version": "3.10.12"
  }
 },
 "nbformat": 4,
 "nbformat_minor": 5
}
