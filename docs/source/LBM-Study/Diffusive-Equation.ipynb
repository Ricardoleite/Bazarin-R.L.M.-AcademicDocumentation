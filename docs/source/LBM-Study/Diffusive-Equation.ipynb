{
 "cells": [
  {
   "cell_type": "markdown",
   "id": "1d2eb3be-2943-4811-967e-c481ad04bc2b",
   "metadata": {
    "editable": true,
    "slideshow": {
     "slide_type": ""
    },
    "tags": []
   },
   "source": [
    "# Diffusive Equation\n",
    "\n",
    "The diffusive equation is described by\n",
    "\n",
    "$$\n",
    "\\partial_t \\phi + \\partial_{\\alpha}\\left( \\nu \\partial_{\\alpha}\\phi \\right) = 0\n",
    "$$(df-eq-lb)\n",
    "\n",
    "where $\\phi(\\alpha,t)$ is a time and space dependent parameter and $\\nu$ is diffusive coeficient. \n"
   ]
  },
  {
   "cell_type": "markdown",
   "id": "320b11c7-d9a3-4634-bb62-1388136ac2be",
   "metadata": {},
   "source": [
    "## Lattice Boltzmann Equation\n",
    "\n",
    "Describing the problem through the BGK lattice Boltzmann equation (BGK-LB):\n",
    "\n",
    "$$\n",
    "f_i( x_{\\alpha} + e_{i,\\alpha} \\delta t, t+\\delta t) = f_i(x_{\\alpha}, t)  -\\left( \\frac{ f_{i} - f_{i}^{eq} }{ \\tau } \\right), \n",
    "$$(LB-df-Eq)\n",
    "\n",
    "where the equilibrium distribution function is defined by\n",
    "\n",
    "$$\n",
    "f^{eq}_{i} = w_{i}\\phi(x_{\\alpha}, t),\n",
    "$$\n",
    "\n",
    "and the equilibrium moments are given by \n",
    "\n",
    "$$\n",
    "\\displaystyle\\sum_{i=0} f_{i}^{eq}=\\phi, \\quad \\quad  \\displaystyle\\sum_{i}f_{i}^{eq} e_{i,\\alpha} =0 \\quad \\quad \\textrm{and} \\quad \\quad  \\displaystyle\\sum_{i}f_{i}^{eq} e_{i,\\alpha} e_{i,\\beta} =c_{s}^{2} \\phi \\delta_{\\alpha\\beta}.\n",
    "$$(moments-fi-df)\n",
    "\n",
    "Through Chapman–Enskog analysis, it is demonstrated that the first-order non-equilibrium moment describes the pressure gradient and, consequently, the average velocity:\n",
    "\n",
    "$$\n",
    "m^{neq}_{\\alpha} = \\displaystyle\\sum_{i} e_{i,\\alpha}\\left( f_i-f_i^{eq}\\right)  = -(c_{s}^{2} \\tau \\delta_{t})\\partial_{\\alpha}\\phi  \\quad \\quad \\textrm{and} \\quad\\quad \\tau = \\displaystyle\\frac{\\nu}{c_{s}^{2} \\delta_{t}} +\\frac{1}{2}.\n",
    "$$"
   ]
  },
  {
   "cell_type": "markdown",
   "id": "a1f0e00d-c032-414a-8aff-b666ba180f7d",
   "metadata": {},
   "source": [
    "### Lattice Direction Moments"
   ]
  },
  {
   "cell_type": "code",
   "execution_count": 4,
   "id": "c8dd6283-a6ef-4060-8675-30eb45b800cf",
   "metadata": {
    "editable": true,
    "slideshow": {
     "slide_type": ""
    },
    "tags": [
     "hide-input"
    ]
   },
   "outputs": [],
   "source": [
    "import warnings\n",
    "warnings.filterwarnings(\"ignore\")\n",
    "from pylab import *\n",
    "from __future__ import division\n",
    "from sympy import *\n",
    "import numpy as np\n",
    "from sympy import S, collect, expand, factor, Wild\n",
    "from sympy import fraction, Rational, Symbol\n",
    "from sympy import symbols, sqrt, Rational\n",
    "import sympy as sp\n",
    "from IPython.display import display, Math, Latex\n",
    "#-------------------------------------------------Símbolos----------------------------------------------\n",
    "omega, p, w = symbols('omega, \\\\phi, w')\n",
    "wi, cx, cy, cs = symbols('w_{i} c_{x} c_{y} c_{s}')\n",
    "fi, f0, f1, f2, f3, f4, f5, f6, f7, f8,  = symbols('f_{i} f_{0} f_{1} f_{2} f_{3} f_{4} f_{5} f_{6} f_{7} f_{8}')\n",
    "#-------------------------------------------------Funções----------------------------------------------\n",
    "feq = Function('feq')(wi, cx, cy)\n",
    "fneq = Function('fneq')(wi, cx, cy)\n",
    "f = Function('f')(fi)\n",
    "#----------------------------------------------Lattice-D2Q9---Variáveis----------------------------------------------\n",
    "fi=np.array([f1,f2,f3,f4,f5,f6,f7,f8])\n",
    "w0=Rational(4,9);w1=Rational(1,9);w2=Rational(1,36)\n",
    "wi=np.array([w0,w1,w1,w1,w1,w2,w2,w2,w2])\n",
    "cx=np.array([0,1,0,-1,0,1,-1,-1,1])\n",
    "cy=np.array([0,0,1,0,-1,1,1,-1,-1])\n",
    "as2=Rational(3)\n",
    "cs2=1/as2\n",
    "#-------------------------------------------------Calc.Func------------------------------------------------\n",
    "f= fi\n",
    "feq=wi*p"
   ]
  },
  {
   "cell_type": "code",
   "execution_count": 10,
   "id": "2147848c-6015-4c81-8eee-6f09e6191c81",
   "metadata": {
    "editable": true,
    "slideshow": {
     "slide_type": ""
    },
    "tags": [
     "hide-input"
    ]
   },
   "outputs": [
    {
     "data": {
      "text/latex": [
       "$\\displaystyle \\underbrace{\\sum_{i=0} f_{i}^{eq} =\\sum_{i=0} f_{i} }_{\\textrm{Zero-Order Moment}} =\\phi,\\quad \\quad \\underbrace{\\sum_{i=0} f_{i}^{eq}e_{i,x} }_{\\textrm{x-First-Order Moment}} =0,\\quad \\quad \\underbrace{\\sum_{i=0} f_{i}^{eq}e_{i,y} }_{\\textrm{y-First-Order Moment}} =0,\\\\ \\quad \\quad \\underbrace{\\sum_{i=0} f_{i}^{eq}e_{i,x}e_{i,x} }_{\\textrm{xx-Second-Order Moment}} =\\frac{\\phi}{3},\\quad \\quad \\underbrace{\\sum_{i=0} f_{i}^{eq}e_{i,x}e_{i,y} }_{\\textrm{xy-Second-Order Moment}} =0 \\quad \\quad and \\quad \\quad \\underbrace{\\sum_{i=0} f_{i}^{eq}e_{i,y}e_{i,y} }_{\\textrm{yy-Second-Order Moment}} =\\frac{\\phi}{3}$"
      ],
      "text/plain": [
       "<IPython.core.display.Math object>"
      ]
     },
     "metadata": {},
     "output_type": "display_data"
    }
   ],
   "source": [
    "a0=simplify(sum(feq))\n",
    "ax=simplify(sum(feq*cx))\n",
    "ay=simplify(sum(feq*cy))\n",
    "axx=simplify(sum(feq*cx*cx))\n",
    "axy=simplify(sum(feq*cx*cy))\n",
    "ayy=simplify(sum(feq*cy*cy))\n",
    "display(Math(r\"\\underbrace{\\sum_{i=0} f_{i}^{eq} =\\sum_{i=0} f_{i} }_{\\textrm{Zero-Order Moment}} =\" +  sp.latex(a0) \n",
    "            +r\",\\quad \\quad \\underbrace{\\sum_{i=0} f_{i}^{eq}e_{i,x} }_{\\textrm{x-First-Order Moment}} =\" +  sp.latex(ax)\n",
    "            +r\",\\quad \\quad \\underbrace{\\sum_{i=0} f_{i}^{eq}e_{i,y} }_{\\textrm{y-First-Order Moment}} =\" +  sp.latex(ay)\n",
    "            +r\",\\\\ \\quad \\quad \\underbrace{\\sum_{i=0} f_{i}^{eq}e_{i,x}e_{i,x} }_{\\textrm{xx-Second-Order Moment}} =\" +  sp.latex(axx)\n",
    "            +r\",\\quad \\quad \\underbrace{\\sum_{i=0} f_{i}^{eq}e_{i,x}e_{i,y} }_{\\textrm{xy-Second-Order Moment}} =\" +  sp.latex(axy)\n",
    "            +r\" \\quad \\quad and \\quad \\quad \\underbrace{\\sum_{i=0} f_{i}^{eq}e_{i,y}e_{i,y} }_{\\textrm{yy-Second-Order Moment}} =\" +  sp.latex(ayy)))"
   ]
  },
  {
   "cell_type": "markdown",
   "id": "7be7e877-e0e4-4491-a0c6-07868115c995",
   "metadata": {},
   "source": [
    "## Chapmann-Enskog Analysis"
   ]
  },
  {
   "cell_type": "markdown",
   "id": "16f5cc23-a6a1-4fe4-a8b6-1488556126a7",
   "metadata": {},
   "source": [
    "Applying the Chapmann-Enskog procedure to LB equation, we expand the term $f_{i}\\left(\\boldsymbol{x}+\\boldsymbol{e}_i \\Delta t, t+\\Delta t\\right)$ in a Taylor series to recover the derivative form of the equation, i.e.,\n",
    "\n",
    "$$\n",
    "f_{i}\\left(\\boldsymbol{x}+\\boldsymbol{e}_i \\Delta t, t+\\Delta t\\right)- f_{i}(\\boldsymbol{x}, t)=\\displaystyle\\sum_{j=1}^{\\infty}\\frac{\\Delta t^{j}}{j!}D_{t}^{j}f_{i}= -\\left( \\frac{ f_{i} - f_{i}^{eq} }{ \\tau } \\right).\n",
    "$$(EqExp-df-Eq)\n",
    "\n",
    "Rescaling the dimensionless form of the Eq. {eq}`EqExp-df-Eq` in terms of the Knudsen number ($Kn$), we have\n",
    "\n",
    "$$\n",
    "\\displaystyle \\sum^{\\infty}_{j=1}  \\frac{Kn^{(j-1)}}{j!} D_{t}^{j} f_{i} = - \\frac{1}{Kn}\\left( \\frac{ f_{i} - f_{eq,i} }{ \\tau } \\right) \\quad \\quad \\rightarrow \\quad \\quad \\displaystyle \\sum^{\\infty}_{j=1}  \\frac{Kn^{(j)}}{j!} D_{t}^{j} f_{i} = -  \\frac{ f_{i} - f_{i}^{eq} }{ \\tau },\n",
    "$$\n",
    "\n",
    "applying the asymptotic expansion in both the distribution function ($f_{i}=f_{i}^{(0)}+Kn f_{i}^{(1)} + Kn^{2} f_{i}^{(2)}+\\cdots$) and time partial derivative ($\\partial_{t}=\\partial_{t}^{(0)}+ Kn \\partial_{t}^{(1)}+Kn^{2} \\partial_{t}^{(2)}+\\cdots$), and separating the equation in orders up to the order $Kn^{2}$:\n",
    "\n",
    "$$\n",
    "\\begin{array}{ll}\n",
    "    (Kn^{(0)}):& f_{i}^{(0)}= f_{i}^{eq},\\\\\n",
    "    (Kn^{(1)}):& \\left( \\partial_{t}^{(0)} + e_{i,\\alpha}\\partial_{\\alpha} \\right)f_{i}^{(0)}= - \\displaystyle\\frac{ f_{i}^{(1)} }{ \\tau } , \\\\\n",
    "    (Kn^{(2)}):& \\partial_{t}^{(1)} f_{i}^{(0)} + \\left( \\partial_{t}^{(0)} + e_{i,\\alpha}\\partial_{\\alpha} \\right)f_{i}^{(0)} + \\displaystyle\\frac{\\left( \\partial_{t}^{(0)} + e_{i,\\alpha}\\partial_{\\alpha} \\right)^{2} f_{i}^{(0)}}{2}= - \\displaystyle\\frac{ f_{i}^{(2)} }{ \\tau },\\\\\n",
    "    \\textrm{ou}\\\\\n",
    "    (Kn^{(2)}):& \\partial_{t}^{(1)} f_{i}^{(0)} + \\left( \\partial_{t}^{(0)} + e_{i,\\alpha}\\partial_{\\alpha} \\right)\\displaystyle\\left(1 - \\frac{1}{2\\tau}\\right) f_{i}^{(1)} =  - \\displaystyle\\frac{ f_{i}^{(2)} }{ \\tau } \\quad\\quad \\rightarrow \\quad\\quad  f_{i}^{(1)}\\textrm{ Formulation} \\\\\n",
    "    \\textrm{ou}\\\\\n",
    "    (Kn^{(2)}):& \\partial_{t}^{(1)} f_{i}^{(0)} + \\left( \\partial_{t}^{(0)} + e_{i,\\alpha}\\partial_{\\alpha} \\right)^{2} \\displaystyle\\left(\\frac{1}{2} - \\tau\\right) f_{i}^{(0)} =  - \\displaystyle\\frac{ f_{i}^{(2)} }{ \\tau } \\quad\\quad \\rightarrow  \\quad\\quad f_{i}^{(0)}\\textrm{ Formulation}.\n",
    " \\end{array}\n",
    "$$(Chap-Kn-df-Eq)"
   ]
  },
  {
   "cell_type": "markdown",
   "id": "e76ff956-7520-4d95-bc10-91674c175912",
   "metadata": {},
   "source": [
    "## Zero-Order Moment Balance\n",
    "\n",
    "To retrieve the balance equation, we sum the Eq. {eq}`Chap-Kn-df-Eq` for $Kn^{(1)}$ and $Kn^{(2)}$ over $\\sum_{i=0} $:\n",
    "\n",
    "$$\n",
    "\\begin{array}{l}\n",
    "(Kn^{(1)}): \\displaystyle\\sum_{i}\\left( \\partial_{t}^{(0)} + e_{i,\\alpha}\\partial_{\\alpha} \\right)f_{i}^{(0)}= \\displaystyle\\sum_{i} \\left(- \\displaystyle\\frac{ f_{i}^{(1)} }{ \\tau } \\right),\\\\\n",
    "(Kn^{(1)}): \\partial_{t}^{(0)}  \\phi =0,\n",
    "\\end{array}\n",
    "$$\n",
    "\n",
    "and\n",
    "\n",
    "$$\n",
    "\\begin{array}{l}\n",
    "(Kn^{(2)}): \\displaystyle\\sum_{i}\\left( \\partial_{t}^{(1)} f_{i}^{(0)} + \\left( \\partial_{t}^{(0)} + e_{i,\\alpha}\\partial_{\\alpha} \\right)^{2} \\displaystyle\\left( \\frac{1}{2}-\\tau\\right) f_{i}^{(0)} \\right) =  \\displaystyle\\sum_{i}\\left( - \\displaystyle\\frac{ f_{i}^{(2)} }{ \\tau } \\right), \\\\\n",
    "(Kn^{(2)}): \\partial_{t}^{(1)}\\phi + \\left( \\displaystyle\\frac{1}{2}-\\tau\\right) \\partial_{\\alpha}\\partial_{\\beta} \\left(c_{s}^{2} \\phi \\delta_{\\alpha\\beta} \\right) =0. \n",
    "\\end{array}\n",
    "$$\n",
    "\n",
    "or\n",
    "\n",
    "$$\n",
    "\\begin{array}{l}\n",
    "(Kn^{(2)}):& \\displaystyle\\sum_{i}\\left[ \\partial_{t}^{(1)} f_{i}^{(0)} - \\left(1-\\displaystyle\\frac{1}{2\\tau}\\right)\\left( \\partial_{t}^{(0)} + e_{\\alpha,i}\\partial_{\\alpha} \\right) f_{i}^{(1)}   \\right]=  \\displaystyle\\sum_{i}\\left( - \\displaystyle\\frac{f_{i}^{(2)}}{\\tau} \\right), \\nonumber \\\\\n",
    "(Kn^{(2)}):& \\partial_{t}^{(1)}\\phi - \\left(1-\\displaystyle\\frac{1}{2\\tau}\\right) m^{(1)}_{\\alpha} = 0.\n",
    "\\end{array}\n",
    "$$(df-Kn1-0-B0)\n",
    "\n",
    "where $m^{(1)}_{\\alpha}$ is the first-order moment of $f_{i}^{(1)}$ and $\\sum_{i=1}f_{i}^{(j)}=0$ for $j\\geq 1$ due to imposition of $\\phi$ conservation. To compute the moment $m^{(1)}_{\\alpha}$, we multiply Eq. {eq}`Chap-Kn-df-Eq` by $e_{i,\\alpha}$ and sum over all lattice directions:\n",
    "\n",
    "$$\n",
    "\\begin{array}{l}\n",
    "(Kn^{(1)}): \\displaystyle\\sum_{i}e_{\\alpha,i}\\left( \\partial_{t}^{(0)} + e_{\\beta,i}\\partial_{\\beta} \\right)f_{i}^{(0)}= \\displaystyle\\sum_{i} e_{\\alpha,i} \\left( -\\frac{f_{i}^{(1)}}{\\tau}  \\right),\\\\\n",
    "(Kn^{(1)}): m^{(1)}_{\\alpha} =-\\tau \\partial_{\\beta}\\left( c_{s}^{2} \\phi \\delta_{\\alpha\\beta}  \\right).\n",
    "\\end{array}\n",
    "$$(df-Kn0-B1)\n",
    "\n",
    "\n",
    "By substituting Eq. {eq}`df-Kn0-B1` into Eq. {eq}`df-Kn1-0-B0`, we recover the Eq. {eq}`df-eq-lb`, where $\\nu=c_{s}^{2}(\\tau-1/2)$. In the regularized formulation of the lattice Boltzmann equation, the first-order correction is approximated as $f_{i}^{(1)}\\approx (f_{i}-f_{i}^{(0)})=f_{i}^{neq}$, where higher-order Knudsen moments are filtered out and the collision term is reformulated in terms of $f_{i}^{neq}$."
   ]
  },
  {
   "cell_type": "markdown",
   "id": "12d0efed-4938-41ee-90d6-e6971f1f1146",
   "metadata": {},
   "source": [
    "## Boundary Conditions\n",
    "\n",
    "The boundary conditions for the lattices can be derived by solving a linear system of known moments."
   ]
  },
  {
   "cell_type": "markdown",
   "id": "ed35c46d-0d61-4be2-9c27-68f579754ab9",
   "metadata": {},
   "source": [
    "| D1Q2: | Boundaries      |   | Layers                                                                          |   |                                                                                 |\n",
    "|------|-----------------|---|---------------------------------------------------------------------------------|---|---------------------------------------------------------------------------------|\n",
    "|      |                 |   | West                                                                            |   | East                                                                            |\n",
    "|      | Unknown $f_{i}$ |   | $f_2=\\phi_{e} - f_1$                                                            |   | $f_1=\\phi_{w} - f_2$                                                            |\n",
    "|      |                 |   |                                                                                 |   |                                                                                 |\n",
    "| D2Q5: | Boundaries      |   | Layers                                                                          |   |                                                                                 |\n",
    "|      |                 |   | North                                                                           |   | South                                                                           |\n",
    "|      | Unknown $f_{i}$ |   | $f_2=\\phi_{n} - (f_0+f_1+f_3+f_4)$                                              |   | $f_4=\\phi_{s} - (f_0+f_1+f_2+f_3)$                                              |\n",
    "|      |                 |   | East                                                                            |   | East                                                                            |\n",
    "|      |                 |   | $f_3=\\phi_{e} - (f_0+f_1+f_2+f_4)$                                              |   | $f_1=\\phi_{w} - (f_0+f_2+f_3+f_4)$                                              |\n",
    "|      | Boundaries      |   | Concave Corners                                                                 |   |                                                                                 |\n",
    "|      |                 |   | Northwest                                                                       |   | Northeast                                                                       |\n",
    "|      | Unknown $f_{i}$ |   | $f_1=-(\\partial_{x}p+\\partial_{y}p)\\tau c_{s}^{2}/2 - f_2 + \\widehat{p}_{nw}/3$ |   | $f_3=(\\partial_{x}p-\\partial_{y}p)\\tau c_{s}^{2}/2 - f_2 + \\widehat{p}_{ne}/3$  |\n",
    "|      |                 |   | $f_4=(\\partial_{x}p+\\partial_{y}p)\\tau c_{s}^{2}/2 - f_3 + \\widehat{p}_{nw}/3$  |   | $f_4=-(\\partial_{x}p-\\partial_{y}p)\\tau c_{s}^{2}/2 - f_1 + \\widehat{p}_{ne}/3$ |\n",
    "|      |                 |   | Southwest                                                                       |   | Southeast                                                                       |\n",
    "|      |                 |   | $f_1=-(\\partial_{x}p-\\partial_{y}p)\\tau c_{s}^{2}/2 - f_4 + \\widehat{p}_{sw}/3$ |   | $f_2=-(\\partial_{x}p+\\partial_{y}p)\\tau c_{s}^{2}/2 - f_1 + \\widehat{p}_{se}/3$ |\n",
    "|      |                 |   | $f_2=(\\partial_{x}p-\\partial_{y}p)\\tau c_{s}^{2}/2 - f_3 + \\widehat{p}_{sw}/3$  |   | $f_3=(\\partial_{x}p+\\partial_{y}p)\\tau c_{s}^{2}/2 - f_4 + \\widehat{p}_{se}/3$  |"
   ]
  },
  {
   "cell_type": "markdown",
   "id": "f18b8ebe-8315-40a1-99cb-f1a44883b1a9",
   "metadata": {
    "editable": true,
    "slideshow": {
     "slide_type": ""
    },
    "tags": []
   },
   "source": [
    "## Benchmarks - 1"
   ]
  },
  {
   "cell_type": "markdown",
   "id": "a8cd98fa-1ac0-412c-a58d-dbbe2b4c1dcb",
   "metadata": {
    "editable": true,
    "slideshow": {
     "slide_type": ""
    },
    "tags": []
   },
   "source": [
    "Analyzing the accuracy of diffusive equation solver, we apply it to a one-dimensional analytical case. The geometry is described by a domain of length $L$ initialized with a constant temperatura $T(x,t=0)=0$. The boundary conditions are given $T(x=0,t)=1$ and $T(x=L,t)=0$."
   ]
  },
  {
   "cell_type": "markdown",
   "id": "b35e138b-a2f4-4a03-92e1-c2fb00a13a45",
   "metadata": {
    "editable": true,
    "slideshow": {
     "slide_type": ""
    },
    "tags": []
   },
   "source": [
    "### Steady-State Analytical Solution\n",
    "\n",
    "The analytical solution of this problem is given by:\n",
    "\n",
    "$$\n",
    "T(x,t\\rightarrow \\infty)= -\\frac{x}{L} + 1.\n",
    "$$"
   ]
  },
  {
   "cell_type": "markdown",
   "id": "f825d322-636b-402a-a91d-cb365e412b3e",
   "metadata": {
    "editable": true,
    "slideshow": {
     "slide_type": ""
    },
    "tags": []
   },
   "source": [
    "### Transient Analytical Solution"
   ]
  },
  {
   "cell_type": "markdown",
   "id": "a9a8e2b2-89ba-48a5-9962-43b8f72a0499",
   "metadata": {
    "editable": true,
    "slideshow": {
     "slide_type": ""
    },
    "tags": []
   },
   "source": [
    "For the 1D heat equation $\\partial_t T=\\nu\\,\\partial_{xx}T$ on $0<x<L$ with\n",
    "\n",
    "$$\n",
    "T(0,t)=1,\\qquad T(L,t)=0,\n",
    "$$\n",
    "\n",
    "the steady state is $T_{\\text{ss}}(x)=1-\\tfrac{x}{L}$. With $u=T-T_{\\text{ss}}$ (so $u(0,t)=u(L,t)=0$), the solution is\n",
    "\n",
    "$$\n",
    "T(x,t)=1-\\frac{x}{L}+\\sum_{n=1}^{\\infty} B_n\\,e^{-\\nu (n\\pi/L)^2 t}\\,\\sin\\!\\Big(\\frac{n\\pi x}{L}\\Big),\n",
    "\\quad\n",
    "B_n=\\frac{2}{L}\\int_0^L\\!\\Big[T_0(\\xi)-\\Big(1-\\frac{\\xi}{L}\\Big)\\Big]\\sin\\!\\Big(\\frac{n\\pi \\xi}{L}\\Big)\\,d\\xi.\n",
    "$$\n",
    "\n",
    "Special case $T_0(x)=0$: $B_n=-\\dfrac{2}{n\\pi}$, so\n",
    "\n",
    "$$\n",
    "T(x,t)=1-\\frac{x}{L}-\\frac{2}{\\pi}\\sum_{n=1}^{\\infty}\\frac{1}{n}\\,e^{-\\nu (n\\pi/L)^2 t}\\,\\sin\\!\\Big(\\frac{n\\pi x}{L}\\Big).\n",
    "$$\n",
    "\n",
    "Here’s a ready-to-run Python snippet (with a single plot of $T(x,t)$ vs $x$ for multiple times):\n"
   ]
  },
  {
   "cell_type": "code",
   "execution_count": 4,
   "id": "66ccd6d4-3ed1-4ca9-8100-8816d134ac90",
   "metadata": {
    "editable": true,
    "slideshow": {
     "slide_type": ""
    },
    "tags": []
   },
   "outputs": [],
   "source": [
    "# import numpy as np\n",
    "# import matplotlib.pyplot as plt\n",
    "\n",
    "# # ---- Modes and series -------------------------------------------------------\n",
    "# def modes_dirichlet_dirichlet(L, N):\n",
    "#     n = np.arange(1, N+1)        # n = 1,2,...,N\n",
    "#     k = n * np.pi / L            # eigenvalues mu_n\n",
    "#     return n, k\n",
    "\n",
    "# def project_coeffs_dirichlet(T0_func, L, N, grid_pts=4000):\n",
    "#     \"\"\"\n",
    "#     B_n = (2/L) ∫( T0(x) - T_ss(x) ) sin(nπx/L) dx, with T_ss = 1 - x/L.\n",
    "#     \"\"\"\n",
    "#     x = np.linspace(0.0, L, grid_pts, endpoint=True)\n",
    "#     Tss = 1.0 - x / L\n",
    "#     u0 = T0_func(x) - Tss\n",
    "#     n, k = modes_dirichlet_dirichlet(L, N)          # (N,), (N,)\n",
    "#     S = np.sin(k[:, None] * x[None, :])             # (N, M)\n",
    "#     B = (2.0 / L) * np.trapz(u0[None, :] * S, x, axis=1)\n",
    "#     return B, n, k\n",
    "\n",
    "# def T_series_dirichlet(x, t, L, nu, B, k):\n",
    "#     \"\"\"\n",
    "#     T(x,t) = T_ss(x) + sum_n B_n e^{-nu k_n^2 t} sin(k_n x), T_ss = 1 - x/L.\n",
    "#     \"\"\"\n",
    "#     x = np.asarray(x)\n",
    "#     Tss = 1.0 - x / L\n",
    "#     coeff = B * np.exp(-nu * (k**2) * t)            # (N,)\n",
    "#     add = np.sum(coeff[:, None] * np.sin(k[:, None] * x[None, :]), axis=0)\n",
    "#     return Tss + add\n",
    "\n",
    "# # ---- Parameters -------------------------------------------------------------\n",
    "# L   = 1.0\n",
    "# nu  = 0.1\n",
    "# N   = 200\n",
    "# x   = np.linspace(0, L, 600)\n",
    "\n",
    "# # ---- Case A: initially cold rod T0(x)=0 (closed-form coefficients) ----------\n",
    "# n, k = modes_dirichlet_dirichlet(L, N)\n",
    "# B_cold = -2.0 / (n * np.pi)   # exact coefficients for T0 ≡ 0\n",
    "\n",
    "# times = [0.0, 0.01, 0.05, 0.2]\n",
    "\n",
    "# plt.figure()\n",
    "# for t in times:\n",
    "#     T_xt = T_series_dirichlet(x, t, L, nu, B_cold, k)\n",
    "#     plt.plot(x, T_xt, label=f\"t = {t:g}\")\n",
    "\n",
    "# # steady state\n",
    "# plt.plot(x, 1.0 - x/L, linestyle=\"--\", linewidth=1, label=\"steady state\")\n",
    "\n",
    "# plt.xlabel(\"x\")\n",
    "# plt.ylabel(\"T(x,t)\")\n",
    "# plt.title(\"Heat eq.: T(0,t)=1, T(L,t)=0  (T0(x)=0)\")\n",
    "# plt.legend()\n",
    "# plt.grid(True)\n",
    "# plt.tight_layout()\n",
    "# plt.show()"
   ]
  },
  {
   "cell_type": "markdown",
   "id": "0a6dac17-bd98-4e0d-b9a7-5564b6bbdb37",
   "metadata": {
    "editable": true,
    "slideshow": {
     "slide_type": ""
    },
    "tags": []
   },
   "source": [
    "## Benchmarks - 2 (Analytical Solution)"
   ]
  },
  {
   "cell_type": "markdown",
   "id": "0587b233-3227-4251-a56e-3f3259b6224d",
   "metadata": {
    "editable": true,
    "slideshow": {
     "slide_type": ""
    },
    "tags": []
   },
   "source": [
    "Assuming the **forward heat equation** in 1D with constant diffusivity $\\nu>0$,\n",
    "\n",
    "$$\n",
    "\\partial_t T=\\nu\\,\\partial_{xx}T,\\qquad 0<x<L,\\ t>0,\n",
    "$$\n",
    "\n",
    "and the mixed boundary conditions\n",
    "\n",
    "$$\n",
    "T(0,t)=1,\\qquad \\partial_x T(L,t)=0,\n",
    "$$\n",
    "\n",
    "the steady state is $T_{\\mathrm{ss}}(x)=1$.\n",
    "\n",
    "Let $u(x,t)=T(x,t)-1$. Then $u$ solves\n",
    "\n",
    "$$\n",
    "\\partial_t u=\\nu\\,\\partial_{xx}u,\\quad u(0,t)=0,\\quad \\partial_x u(L,t)=0,\\quad u(x,0)=u_0(x):=T_0(x)-1.\n",
    "$$\n",
    "\n",
    "Separation of variables with eigenfunctions satisfying $X(0)=0,\\ X'(L)=0$ gives\n",
    "\n",
    "$$\n",
    "X_n(x)=\\sin(\\mu_n x),\\qquad \\mu_n=\\frac{(n+\\tfrac12)\\pi}{L},\\quad n=0,1,2,\\dots\n",
    "$$\n",
    "\n",
    "Hence the solution is the sine‐series\n",
    "\n",
    "$$\n",
    "\\boxed{\\\n",
    "T(x,t)=1+\\sum_{n=0}^{\\infty} A_n\\,e^{-\\nu\\,\\mu_n^{2}\\,t}\\,\\sin(\\mu_n x),\\qquad \n",
    "\\mu_n=\\frac{(n+\\tfrac12)\\pi}{L},\\\n",
    "}\n",
    "$$\n",
    "\n",
    "with coefficients (using $\\int_0^L \\sin(\\mu_m x)\\sin(\\mu_n x)\\,dx=\\tfrac{L}{2}\\delta_{mn}$)\n",
    "\n",
    "$$\n",
    "\\boxed{\\ A_n=\\frac{2}{L}\\int_0^L \\big[T_0(\\xi)-1\\big]\\sin(\\mu_n \\xi)\\,d\\xi.\\ }\n",
    "$$\n",
    "\n",
    "**Common special case (initially cold rod):** if $T_0(x)=0$, then $u_0(x)=-1$ and\n",
    "\n",
    "$$\n",
    "A_n=\\frac{2}{L}\\int_0^L (-1)\\sin(\\mu_n \\xi)\\,d\\xi=-\\frac{2}{L\\mu_n},\n",
    "$$\n",
    "\n",
    "so\n",
    "\n",
    "$$\n",
    "\\boxed{\\\n",
    "T(x,t)=1-\\sum_{n=0}^\\infty \\frac{2}{L\\mu_n}\\,e^{-\\nu\\,\\mu_n^{2}\\,t}\\,\\sin(\\mu_n x),\\qquad \n",
    "\\mu_n=\\frac{(n+\\tfrac12)\\pi}{L}.\\\n",
    "}\n",
    "$$\n",
    "\n",
    "> Note: if you literally use your original sign $\\partial_t T+\\nu T_{xx}=0$ (the **backward** heat equation), the time-dependent problem is ill-posed forward in $t$. For a physically meaningful diffusion process, use $\\partial_t T=\\nu T_{xx}$.\n"
   ]
  },
  {
   "cell_type": "code",
   "execution_count": 3,
   "id": "70292679-d944-4e3a-b215-df7af5ade08f",
   "metadata": {
    "editable": true,
    "slideshow": {
     "slide_type": ""
    },
    "tags": []
   },
   "outputs": [],
   "source": [
    "# import numpy as np\n",
    "# import matplotlib.pyplot as plt\n",
    "\n",
    "# def heat_modes(L, N):\n",
    "#     n = np.arange(N)\n",
    "#     mu = (n + 0.5) * np.pi / L\n",
    "#     return mu\n",
    "\n",
    "# def project_coeffs(T0_func, L, N, grid_pts=2000):\n",
    "#     x = np.linspace(0.0, L, grid_pts, endpoint=True)\n",
    "#     u0 = T0_func(x) - 1.0\n",
    "#     mu = heat_modes(L, N)                           # (N,)\n",
    "#     S = np.sin(mu[:, None] * x[None, :])            # (N, M)\n",
    "#     A = (2.0 / L) * np.trapz(u0[None, :] * S, x, axis=1)  # (N,)\n",
    "#     return A, mu\n",
    "\n",
    "# def T_series(x, t, L, nu, A, mu):\n",
    "#     x = np.asarray(x)\n",
    "#     coeff = A * np.exp(-nu * (mu**2) * t)           # (N,)\n",
    "#     return 1.0 + np.sum(coeff[:, None] * np.sin(mu[:, None] * x[None, :]), axis=0)\n",
    "\n",
    "# # ---- Parameters -------------------------------------------------------------\n",
    "# L = 1.0\n",
    "# nu = 0.1\n",
    "# N = 200               # number of modes\n",
    "# x = np.linspace(0, L, 600)\n",
    "\n",
    "# # ---- Case 1: initially cold rod T0(x)=0 (closed-form A_n) -------------------\n",
    "# mu = heat_modes(L, N)\n",
    "# A_cold = -2.0 / (L * mu)\n",
    "\n",
    "# times = [0.0, 0.01, 0.05, 0.2]\n",
    "\n",
    "# plt.figure()\n",
    "# for t in times:\n",
    "#     T_xt = T_series(x, t, L, nu, A_cold, mu)\n",
    "#     plt.plot(x, T_xt, label=f\"t = {t:g}\")\n",
    "\n",
    "# # Steady-state baseline (T=1)\n",
    "# plt.axhline(1.0, linestyle=\"--\", linewidth=1, label=\"steady state\")\n",
    "\n",
    "# plt.xlabel(\"x\")\n",
    "# plt.ylabel(\"T(x,t)\")\n",
    "# plt.title(\"Heat eq. with T(0,t)=1,  T_x(L,t)=0  (initially cold rod)\")\n",
    "# plt.legend()\n",
    "# plt.grid(True)\n",
    "# plt.tight_layout()\n",
    "# plt.show()\n"
   ]
  },
  {
   "cell_type": "code",
   "execution_count": null,
   "id": "71e35f7e-f5bd-4ede-8e4b-d4ed35e5511d",
   "metadata": {
    "editable": true,
    "slideshow": {
     "slide_type": ""
    },
    "tags": []
   },
   "outputs": [],
   "source": []
  }
 ],
 "metadata": {
  "kernelspec": {
   "display_name": "Python 3 (ipykernel)",
   "language": "python",
   "name": "python3"
  },
  "language_info": {
   "codemirror_mode": {
    "name": "ipython",
    "version": 3
   },
   "file_extension": ".py",
   "mimetype": "text/x-python",
   "name": "python",
   "nbconvert_exporter": "python",
   "pygments_lexer": "ipython3",
   "version": "3.12.5"
  }
 },
 "nbformat": 4,
 "nbformat_minor": 5
}
