{
 "cells": [
  {
   "cell_type": "markdown",
   "id": "4d6086bc",
   "metadata": {},
   "source": [
    "# Ementa\n",
    "\n",
    "- Aulas 1 (2 horas): Introdução ao LBM (Seguir o Livro do Kruger é bom pra isso)\n",
    "    - Apresentar o método e sua relevância.\n",
    "    - Escala de representação do método (Mesoscópico): Comparação com métodos de partículas e macroscópicos.\n",
    "    - Estrutura do método: lattices, streaming e malha regular.\n",
    "    - Breve apresentação de como o método discrete se com as equações parciais diferenciais (Análise de Chapman-Enskog). \n"
   ]
  },
  {
   "attachments": {},
   "cell_type": "markdown",
   "id": "92372f0d-2a2b-42ce-82f8-142007f6a3b3",
   "metadata": {},
   "source": [
    "- Aula 2 (2 horas): Equação Difusiva\n",
    "    - Transient Equation: \n",
    "        - Apresentação da equação difusiva e suas aplicações\n",
    "        - Apresentação dela na estrutura LBM\n",
    "        - Comparação com código de FVM\n",
    "        - Talvez uma breve análise de Chapman-Enskog do problema.\n",
    "    - Steady-State Equation: {doc}`Poisson-Equation`\n",
    "        - 🟢 Present the diffusive equation and its application;\n",
    "        - 🟢 Present in the LBM framework;\n",
    "        - 🟢 Chapman-Enskog analysis;\n",
    "        - 🟢 Analytical case implementation."
   ]
  },
  {
   "cell_type": "markdown",
   "id": "9cac68c8-2f2e-473a-a57c-9ae311b5ef6d",
   "metadata": {},
   "source": [
    "- Aula 3 (2 horas): Convectiva-Diffusão de Calor\n",
    "    - Apresentação da equação difusiva e suas aplicações\n",
    "    - Apresentação dela na estrutura LBM\n",
    "    - Comparação com código de FVM\n",
    "    - Talvez uma breve análise de Chapman-Enskog do problema."
   ]
  },
  {
   "cell_type": "markdown",
   "id": "ba9d1a66-86aa-408f-81a1-1a540809c9f8",
   "metadata": {},
   "source": [
    "- Aula 4 (2 horas): Navier-Stokes\n",
    "    - Apresentação da equação\n",
    "    - Apresentação dela na estrutura LBM\n",
    "    - Apresentação de um código para um problema simples periódico (Taylor-Green)."
   ]
  },
  {
   "cell_type": "markdown",
   "id": "29460a09-b520-4302-a94a-0044c6b9c189",
   "metadata": {},
   "source": [
    "- Aula 5 (2 horas): Condições de Contorno\n",
    "    - Apresentação do conceito das condições de contorno para o LBM\n",
    "    - Bounce-Back e suas variações.\n",
    "    - Condições de contorno de pressão e velocidade constante.\n",
    "    - Implementação das condições de contorno: escoamento entorno de um bloco quadrado."
   ]
  },
  {
   "cell_type": "markdown",
   "id": "8d74f219-b745-46ef-be5f-84327a865743",
   "metadata": {},
   "source": [
    "- Aula 6 (2 horas): Termo de Força\n",
    "    - Conceito do termo de força e suas implicações\n",
    "    - Necessidade de aumento da discretização espaço-tempo para segunda-ordem.\n",
    "    - Aplicação num problema simples (Escoamento Poiseuille por gravidade)."
   ]
  },
  {
   "cell_type": "markdown",
   "id": "48b27bf2-5894-443d-b002-0c1c3a1a1ad9",
   "metadata": {},
   "source": [
    "- Aula 7 (2 horas): Navier-Stokes com Temperatura \n",
    "    - Apresentação da equação como uma combinação do desenvolvido nas aulas 3 e 4.\n",
    "    - Apresentação da estrutura LBM\n",
    "    - Apresentação de um código para um problema simples (Convecção natural numa cavidade)."
   ]
  },
  {
   "cell_type": "markdown",
   "id": "6e7c62ed-77d1-4814-af3a-9df7ff941d10",
   "metadata": {},
   "source": [
    "- Aula 8 (2 horas): Estabilidade numérica\n",
    "    - Breve discussão sobre a influência do operador de colisão na estabilidade numérica para baixas viscosidade.\n",
    "    - Discussão da limitação do LBM para alta velocidade (u próximo de 1)\n",
    "    - Como trabalhar adimensionalização (mudança de escala para lidar com isso)."
   ]
  },
  {
   "cell_type": "markdown",
   "id": "dd511544-3f05-492c-8ee3-cb52dd1188be",
   "metadata": {},
   "source": [
    "- Aula 8 (2 horas): Introdução a escoamento multicomponente – aula 1\n",
    "    - Breve introdução ao problema e as equações que descrevem este tipo de problema.\n",
    "    - Apresentação das equações de balanço de massa e os modelos de segregação.\n",
    "    - Apresentação de um código multicomponente estático simples (Interface Plana e bolha estática). OBS: só utilizando a equação convectiva-difusiva igual na estrutura do LBPM."
   ]
  },
  {
   "cell_type": "markdown",
   "id": "14a12837-a8b6-4ac2-b00d-117db9d78ef8",
   "metadata": {},
   "source": [
    "- Aula 9 (2 horas): Introdução a escoamento multicomponente – aula 2\n",
    "    - Incorporação da equação da quantidade de movimento.\n",
    "    - Breve discussão da tensão interfacial.\n",
    "    - Extensão dos códigos estáticos desenvolvidos. "
   ]
  },
  {
   "cell_type": "markdown",
   "id": "a2144448-d02e-467e-83a7-f06ea53ca681",
   "metadata": {},
   "source": [
    "- Aula 10 (2 horas): Tópicos de paralelização."
   ]
  }
 ],
 "metadata": {
  "celltoolbar": "Edit Metadata",
  "kernelspec": {
   "display_name": "Python 3 (ipykernel)",
   "language": "python",
   "name": "python3"
  },
  "language_info": {
   "codemirror_mode": {
    "name": "ipython",
    "version": 3
   },
   "file_extension": ".py",
   "mimetype": "text/x-python",
   "name": "python",
   "nbconvert_exporter": "python",
   "pygments_lexer": "ipython3",
   "version": "3.10.12"
  },
  "varInspector": {
   "cols": {
    "lenName": 16,
    "lenType": 16,
    "lenVar": 40
   },
   "kernels_config": {
    "python": {
     "delete_cmd_postfix": "",
     "delete_cmd_prefix": "del ",
     "library": "var_list.py",
     "varRefreshCmd": "print(var_dic_list())"
    },
    "r": {
     "delete_cmd_postfix": ") ",
     "delete_cmd_prefix": "rm(",
     "library": "var_list.r",
     "varRefreshCmd": "cat(var_dic_list()) "
    }
   },
   "types_to_exclude": [
    "module",
    "function",
    "builtin_function_or_method",
    "instance",
    "_Feature"
   ],
   "window_display": false
  }
 },
 "nbformat": 4,
 "nbformat_minor": 5
}